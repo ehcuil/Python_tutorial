{
 "cells": [
  {
   "cell_type": "code",
   "execution_count": 1,
   "metadata": {},
   "outputs": [],
   "source": [
    "a = 10\n",
    "#a = 4"
   ]
  },
  {
   "cell_type": "code",
   "execution_count": 2,
   "metadata": {},
   "outputs": [
    {
     "name": "stdout",
     "output_type": "stream",
     "text": [
      "变量大于5\n"
     ]
    }
   ],
   "source": [
    "if a>5:\n",
    "    print(\"变量大于5\")\n",
    "else:\n",
    "    print(\"变量不大于5\")"
   ]
  },
  {
   "cell_type": "code",
   "execution_count": 3,
   "metadata": {},
   "outputs": [
    {
     "name": "stdout",
     "output_type": "stream",
     "text": [
      "变量大于5\n"
     ]
    }
   ],
   "source": [
    "if a>5:\n",
    "    print(\"变量大于5\")\n",
    "elif a==5:\n",
    "    print(\"变量等于5\")\n",
    "elif a==4:\n",
    "    print(\"变量等于4\")\n",
    "else:\n",
    "    print(\"变量不大于5且不等于5且不等于4\")\n"
   ]
  },
  {
   "cell_type": "code",
   "execution_count": 4,
   "metadata": {},
   "outputs": [
    {
     "name": "stdout",
     "output_type": "stream",
     "text": [
      "1\n",
      "2\n",
      "3\n",
      "4\n",
      "5\n"
     ]
    }
   ],
   "source": [
    "i = 1\n",
    "while i < 6:\n",
    "    print(i)\n",
    "    i += 1"
   ]
  },
  {
   "cell_type": "code",
   "execution_count": 6,
   "metadata": {},
   "outputs": [
    {
     "name": "stdout",
     "output_type": "stream",
     "text": [
      "1\n",
      "2\n",
      "3\n",
      "4\n",
      "5\n",
      "1\n",
      "2\n",
      "3\n",
      "4\n",
      "5\n",
      "6\n"
     ]
    }
   ],
   "source": [
    "i = 1\n",
    "while i < 6:    # while 循环 (while loop) 的判断条件写在 while 之后，如判断条件为True则循环继续，否则循环中止(判断条件为False)\n",
    "    print(i)\n",
    "    i = i + 1\n",
    "    \n",
    "i = 1\n",
    "for i in [1,2,3,4,5,6]:      # for 循环 (for loop) 不需要判断条件，按照for之后的语句直接给出循环的次数（迭代数），这里的for循环因为条件是in一个长度为6的list，因此固定迭代6次\n",
    "    print(i)\n",
    "    i = i + 1000000000000   # 这里i再怎么加来加去，都不影响\"for i in [1,2,3,4,5,6]\"之中的i\n",
    "    "
   ]
  }
 ],
 "metadata": {
  "kernelspec": {
   "display_name": "Python 3",
   "language": "python",
   "name": "python3"
  },
  "language_info": {
   "codemirror_mode": {
    "name": "ipython",
    "version": 3
   },
   "file_extension": ".py",
   "mimetype": "text/x-python",
   "name": "python",
   "nbconvert_exporter": "python",
   "pygments_lexer": "ipython3",
   "version": "3.6.9"
  }
 },
 "nbformat": 4,
 "nbformat_minor": 2
}
