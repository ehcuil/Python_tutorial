{
 "cells": [
  {
   "cell_type": "code",
   "execution_count": 1,
   "metadata": {},
   "outputs": [],
   "source": [
    "# Python Tutorial 1-20200525\n",
    "# 请注意，井号（#）后输入的任何字符都不会被执行，仅为注释\n",
    "\n",
    "import pandas as pd #导入Pandas包并用变量pd指代它"
   ]
  },
  {
   "cell_type": "code",
   "execution_count": 2,
   "metadata": {},
   "outputs": [],
   "source": [
    "a1 = 'Hello World'\n",
    "#设定变量a1为字符型的'Hello World'\n",
    "\n",
    "a2 = 3\n",
    "#设定变量a2为数值型的3\n",
    "\n",
    "a3 = 5\n",
    "#设定变量a3为数值型的5\n",
    "\n",
    "a4 = '5'\n",
    "#设定变量a4为字符型的5，请注意变量a3和a4的不同"
   ]
  },
  {
   "cell_type": "code",
   "execution_count": 3,
   "metadata": {},
   "outputs": [
    {
     "name": "stdout",
     "output_type": "stream",
     "text": [
      "Hello World\n"
     ]
    }
   ],
   "source": [
    "print(a1)\n",
    "#使用print来展示a1变量的内容"
   ]
  },
  {
   "cell_type": "code",
   "execution_count": 4,
   "metadata": {
    "scrolled": true
   },
   "outputs": [
    {
     "name": "stdout",
     "output_type": "stream",
     "text": [
      "8\n"
     ]
    }
   ],
   "source": [
    "print(a2+a3)\n",
    "#使用print来展示a2+a3变量的结果"
   ]
  },
  {
   "cell_type": "code",
   "execution_count": 5,
   "metadata": {},
   "outputs": [
    {
     "data": {
      "text/plain": [
       "8"
      ]
     },
     "execution_count": 5,
     "metadata": {},
     "output_type": "execute_result"
    }
   ],
   "source": [
    "a2 + a3\n",
    "#当然你也可以不用print命令来展示，但这种方法无法应用在多个方法的程序中(print也是一种方法)"
   ]
  },
  {
   "cell_type": "code",
   "execution_count": 6,
   "metadata": {},
   "outputs": [
    {
     "ename": "TypeError",
     "evalue": "must be str, not int",
     "output_type": "error",
     "traceback": [
      "\u001b[1;31m---------------------------------------------------------------------------\u001b[0m",
      "\u001b[1;31mTypeError\u001b[0m                                 Traceback (most recent call last)",
      "\u001b[1;32m<ipython-input-6-339263e133e4>\u001b[0m in \u001b[0;36m<module>\u001b[1;34m\u001b[0m\n\u001b[0;32m      1\u001b[0m \u001b[1;31m#如果我们想展示 Hello World 5，如果我们使用变量a3，会出现以下错误\u001b[0m\u001b[1;33m\u001b[0m\u001b[1;33m\u001b[0m\u001b[1;33m\u001b[0m\u001b[0m\n\u001b[1;32m----> 2\u001b[1;33m \u001b[0mprint\u001b[0m\u001b[1;33m(\u001b[0m\u001b[0ma1\u001b[0m \u001b[1;33m+\u001b[0m \u001b[0ma3\u001b[0m\u001b[1;33m)\u001b[0m\u001b[1;33m\u001b[0m\u001b[1;33m\u001b[0m\u001b[0m\n\u001b[0m",
      "\u001b[1;31mTypeError\u001b[0m: must be str, not int"
     ]
    }
   ],
   "source": [
    "#如果我们想展示 Hello World 5，如果我们使用变量a3，会出现以下错误\n",
    "#这是因为a1是一个字符型变量而a3是一个数值型变量，不同类型的变量之间不可以直接进行运算\n",
    "print(a1 + a3)"
   ]
  },
  {
   "cell_type": "code",
   "execution_count": 7,
   "metadata": {},
   "outputs": [
    {
     "name": "stdout",
     "output_type": "stream",
     "text": [
      "Hello World5\n"
     ]
    }
   ],
   "source": [
    "#但如果我们使用变量a1和a4，则两者皆为字符型变量，一个加法可以使两个变量的内容拼合在一起 - Hello World5\n",
    "print(a1 + a4)"
   ]
  },
  {
   "cell_type": "code",
   "execution_count": 8,
   "metadata": {},
   "outputs": [
    {
     "name": "stdout",
     "output_type": "stream",
     "text": [
      "[20, 40, 60, 80, 100, 1, 2, 3, 4, 5]\n"
     ]
    }
   ],
   "source": [
    "#列表型变量使用一个中括号将所有元素集成一个列表进行储存\n",
    "list1 = [20, 40, 60, 80, 100]\n",
    "list2 = [1,2,3,4,5]\n",
    "#同理，他们之间也可以直接拼合在一起\n",
    "print(list1 + list2)"
   ]
  },
  {
   "cell_type": "code",
   "execution_count": 9,
   "metadata": {},
   "outputs": [
    {
     "name": "stdout",
     "output_type": "stream",
     "text": [
      "True\n",
      "False\n"
     ]
    }
   ],
   "source": [
    "#布尔型变量只有两种结果，True和False\n",
    "print(1==1)  #注意是两个等号，表示判断两个等号左右两边的值是否相等，并返回结果（True/False)\n",
    "print(1==2)\n",
    "#第一个结果为True\n",
    "#第二个结果为False"
   ]
  },
  {
   "cell_type": "code",
   "execution_count": 12,
   "metadata": {},
   "outputs": [
    {
     "name": "stdout",
     "output_type": "stream",
     "text": [
      "   0  1  2\n",
      "0  1  2  3\n",
      "1  4  5  6\n",
      "2  7  8  9\n"
     ]
    }
   ],
   "source": [
    "#对于pandas包的DataFrame功能，其创建的DataFrame是一个特殊的数据类型，叫object\n",
    "print(pd.DataFrame([[1,2,3],[4,5,6],[7,8,9]]))\n",
    "#对于pandas所创建的DataFrame,每一列都是一个Series\n",
    "#如 1, 4, 7是一个Series\n",
    "#如 2, 5, 8是一个Series\n",
    "#如 3, 6, 9是一个Series\n",
    "#最外层的横向和纵向的0,1,2为DataFrame的index指示"
   ]
  }
 ],
 "metadata": {
  "kernelspec": {
   "display_name": "Python 3",
   "language": "python",
   "name": "python3"
  },
  "language_info": {
   "codemirror_mode": {
    "name": "ipython",
    "version": 3
   },
   "file_extension": ".py",
   "mimetype": "text/x-python",
   "name": "python",
   "nbconvert_exporter": "python",
   "pygments_lexer": "ipython3",
   "version": "3.6.10"
  }
 },
 "nbformat": 4,
 "nbformat_minor": 4
}
